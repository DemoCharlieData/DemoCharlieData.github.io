{
  "nbformat": 4,
  "nbformat_minor": 0,
  "metadata": {
    "colab": {
      "name": "DemoNotebookForClass.ipynb",
      "provenance": [],
      "collapsed_sections": [],
      "authorship_tag": "ABX9TyNF95G59J2Z55LowG2TF0k2",
      "include_colab_link": true
    },
    "kernelspec": {
      "name": "python3",
      "display_name": "Python 3"
    },
    "language_info": {
      "name": "python"
    }
  },
  "cells": [
    {
      "cell_type": "markdown",
      "metadata": {
        "id": "view-in-github",
        "colab_type": "text"
      },
      "source": [
        "<a href=\"https://colab.research.google.com/github/DemoCharlieData/DemoCharlieData.github.io/blob/main/DemoNotebookForClass.ipynb\" target=\"_parent\"><img src=\"https://colab.research.google.com/assets/colab-badge.svg\" alt=\"Open In Colab\"/></a>"
      ]
    },
    {
      "cell_type": "markdown",
      "metadata": {
        "id": "kWG5yBeOIdGi"
      },
      "source": [
        "<h1>Example notebook for students</h1>\n"
      ]
    },
    {
      "cell_type": "markdown",
      "metadata": {
        "id": "fZnzeP5ZOvZs"
      },
      "source": [
        "Some notes on arrays (or lists)"
      ]
    },
    {
      "cell_type": "code",
      "metadata": {
        "id": "PsI1xeG5ODKf"
      },
      "source": [
        "myArray = [1,2,3,4,5]"
      ],
      "execution_count": null,
      "outputs": []
    },
    {
      "cell_type": "code",
      "metadata": {
        "id": "D_ULfGjHOOzv"
      },
      "source": [
        "myArray[4]"
      ],
      "execution_count": null,
      "outputs": []
    },
    {
      "cell_type": "markdown",
      "metadata": {
        "id": "TLCFK_YHzT0T"
      },
      "source": [
        "You can load in packages such as numpy (mathematical tools such as matrices)"
      ]
    },
    {
      "cell_type": "code",
      "metadata": {
        "id": "Qtj2T158liJc"
      },
      "source": [
        "import numpy as np"
      ],
      "execution_count": null,
      "outputs": []
    },
    {
      "cell_type": "code",
      "metadata": {
        "id": "cYrxff5-L1IN"
      },
      "source": [
        "myArray_two = np.arange(20)"
      ],
      "execution_count": null,
      "outputs": []
    },
    {
      "cell_type": "code",
      "metadata": {
        "id": "8uTlCduXOkPz"
      },
      "source": [
        "myArray_two"
      ],
      "execution_count": null,
      "outputs": []
    },
    {
      "cell_type": "code",
      "metadata": {
        "id": "GjNBrBp9OnKu"
      },
      "source": [
        "myArray_two[6]"
      ],
      "execution_count": null,
      "outputs": []
    },
    {
      "cell_type": "code",
      "metadata": {
        "id": "CU5YuaKbRiBu"
      },
      "source": [
        "myArray_three = ['Arsenal', 'Burnley', 'Chelsea']"
      ],
      "execution_count": null,
      "outputs": []
    },
    {
      "cell_type": "code",
      "metadata": {
        "id": "ZG7G37ygRq3y"
      },
      "source": [
        "myArray_three[2]"
      ],
      "execution_count": null,
      "outputs": []
    },
    {
      "cell_type": "markdown",
      "metadata": {
        "id": "VU3y3W6tzWZP"
      },
      "source": [
        "You don't have to call these lists 'myArrayX' either"
      ]
    },
    {
      "cell_type": "code",
      "metadata": {
        "id": "iawuBlu2zcFG"
      },
      "source": [
        "FTSE_100 = ['VOD', 'BRBY', 'AZN']"
      ],
      "execution_count": null,
      "outputs": []
    },
    {
      "cell_type": "code",
      "metadata": {
        "colab": {
          "base_uri": "https://localhost:8080/",
          "height": 35
        },
        "id": "KMuYaazmz93U",
        "outputId": "c3562fbd-2d59-48f7-acf4-6255e3cd4ddb"
      },
      "source": [
        "FTSE_100[0]"
      ],
      "execution_count": null,
      "outputs": [
        {
          "output_type": "execute_result",
          "data": {
            "application/vnd.google.colaboratory.intrinsic+json": {
              "type": "string"
            },
            "text/plain": [
              "'VOD'"
            ]
          },
          "metadata": {},
          "execution_count": 19
        }
      ]
    },
    {
      "cell_type": "markdown",
      "metadata": {
        "id": "1yRqa0AoMpN3"
      },
      "source": [
        "<h3>Build your own calculator.<h3>"
      ]
    },
    {
      "cell_type": "markdown",
      "metadata": {
        "id": "4NHVzrJTF0mR"
      },
      "source": [
        "Let's start with a simple multiplier"
      ]
    },
    {
      "cell_type": "code",
      "metadata": {
        "id": "Rq4VFClqMY2m"
      },
      "source": [
        "def my_function(x,y):\n",
        "  return x*y"
      ],
      "execution_count": null,
      "outputs": []
    },
    {
      "cell_type": "code",
      "metadata": {
        "id": "wmGdHjPsMwvq"
      },
      "source": [
        "my_function(3,4)"
      ],
      "execution_count": null,
      "outputs": []
    },
    {
      "cell_type": "markdown",
      "metadata": {
        "id": "c-601EE-F5KP"
      },
      "source": [
        "How about a tool that calculates one value as a percentage of another (this is useful for Econ research...)"
      ]
    },
    {
      "cell_type": "code",
      "metadata": {
        "id": "6lt11MufM9_v"
      },
      "source": [
        "def my_function_two(x,y):\n",
        "  return (x/y)*100\n"
      ],
      "execution_count": null,
      "outputs": []
    },
    {
      "cell_type": "code",
      "metadata": {
        "id": "F-snSitrNWmv",
        "colab": {
          "base_uri": "https://localhost:8080/"
        },
        "outputId": "f01889d3-3889-43b4-9410-6e9cd699058b"
      },
      "source": [
        "my_function_two(36,30)"
      ],
      "execution_count": null,
      "outputs": [
        {
          "output_type": "execute_result",
          "data": {
            "text/plain": [
              "120.0"
            ]
          },
          "metadata": {},
          "execution_count": 23
        }
      ]
    },
    {
      "cell_type": "markdown",
      "metadata": {
        "id": "zAzTdMrdGCXW"
      },
      "source": [
        "Slightly harder, how about gradients? \n",
        "\n",
        "Let's set a and b as points on the y-axis, and c and d as ponts on the x-axis. \n",
        "\n",
        "Recall, we need (change in y)/(change in x)"
      ]
    },
    {
      "cell_type": "code",
      "metadata": {
        "id": "asC186dxFDec"
      },
      "source": [
        "def my_function_three(a,b,c,d):\n",
        "  return (b-a)/(d-c)"
      ],
      "execution_count": null,
      "outputs": []
    },
    {
      "cell_type": "code",
      "metadata": {
        "colab": {
          "base_uri": "https://localhost:8080/"
        },
        "id": "E0yd8TaGFfYc",
        "outputId": "5d327e42-e235-465a-82b3-2be13f699d91"
      },
      "source": [
        "my_function_three(34,40,3,7)"
      ],
      "execution_count": null,
      "outputs": [
        {
          "output_type": "execute_result",
          "data": {
            "text/plain": [
              "1.5"
            ]
          },
          "metadata": {},
          "execution_count": 25
        }
      ]
    },
    {
      "cell_type": "markdown",
      "metadata": {
        "id": "4TphGfghE3_V"
      },
      "source": [
        "<h3>Upgrade the calculator.</h3>"
      ]
    },
    {
      "cell_type": "markdown",
      "metadata": {
        "id": "hEUGvAEePsG-"
      },
      "source": [
        "Let's try a bit harder... how about a complex function?\n",
        "\n",
        "First, let's write out some proof...\n",
        "\n",
        "The equation for a factorial is as follows: n! = n x (n-1) x (n-2)...(2) x (1)\n",
        "This can be expressed as: n! = n x (n-1)!\n",
        "\n",
        "\n",
        "Set n = 1\n",
        "\n",
        "1! = 1 x (1-1)!\n",
        "1! = 1 x 0!\n",
        "\n",
        "We know that 1! = 1 (since 1 x 1 = 1)\n",
        "\n",
        "So:\n",
        "\n",
        "1 = 0!\n",
        "\n",
        "Keep this in mind...\n"
      ]
    },
    {
      "cell_type": "code",
      "metadata": {
        "colab": {
          "base_uri": "https://localhost:8080/"
        },
        "id": "nDYtgc4bPrae",
        "outputId": "794a1f7e-0979-4128-fe37-966059ee7f2e"
      },
      "source": [
        "num = 5\n",
        "\n",
        "factorial = 1\n",
        "if num < 0:\n",
        "  print(\"Not possible due to negative number\")\n",
        "elif num == 0:\n",
        "  print(\"The factorial of zero is one\")\n",
        "else:\n",
        "  for i in range(1, num + 1):\n",
        "    factorial = factorial*i\n",
        "  print(\"The factorial of\",num,\"is\",factorial)"
      ],
      "execution_count": null,
      "outputs": [
        {
          "output_type": "stream",
          "name": "stdout",
          "text": [
            "The factorial of 5 is 120\n"
          ]
        }
      ]
    }
  ]
}